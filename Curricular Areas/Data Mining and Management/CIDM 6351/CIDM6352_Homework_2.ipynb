{
  "nbformat": 4,
  "nbformat_minor": 0,
  "metadata": {
    "colab": {
      "provenance": []
    },
    "kernelspec": {
      "name": "python3",
      "display_name": "Python 3"
    }
  },
  "cells": [
    {
      "cell_type": "markdown",
      "metadata": {
        "id": "lJURtoBh4mQu"
      },
      "source": [
        "<h1  align=\"center\">CIDM6351: Homework 2 Instructions. Importing and Cleaning Data</h1>\n",
        "\n",
        "* **Save a copy to your Google Drive and answer the questions on your copy**\n",
        "* **Change the share to \"Anyone with link\" so the professor can view your code**\n",
        "* **Submit the share link of your Colab Notebook to WTClass**\n",
        "* This assignment is open notes/Internet/Datacamp but you can only consult with a CIS tutors or the professor.\n",
        "- Students should complete this assignment **individually.** If you need help, contact a CIS tutor or the professor."
      ]
    },
    {
      "cell_type": "markdown",
      "source": [
        "### Scenario: You are a data engineer for a large ice cream manufacturing company. Company stake holders want to know which ice cream flavors to diversity into. You need to gather and prepare some data on the favorite types of ice cream. You find some survey data on this topic. You will import the data, perform some cleaning tasks, and create a simple bar chart of the most popular ice cream flavors and the percentage of adults who like those flavors. ###\n",
        "Original data comes from https://fox8.com/news/the-21-most-popular-ice-cream-flavors-in-america/"
      ],
      "metadata": {
        "id": "9aLy96WuuB1N"
      }
    },
    {
      "cell_type": "markdown",
      "source": [
        "###Data Dictionary: ###  \n",
        "Both data files have the following fields/columns.\n",
        "\n",
        "Ice_Cream_Flavor : <str> The name of the ice cream.  \n",
        "Like_It_Percentage : <str> The percetage of adults surveyed who like that particular ice cream flavor.  \n",
        "Favorite_Percentage : <str> The percentage of adults surveyed who say that flavor is their favorite.  "
      ],
      "metadata": {
        "id": "vYNljP3wu-0r"
      }
    },
    {
      "cell_type": "markdown",
      "metadata": {
        "id": "oHX6cXOpqYxS"
      },
      "source": [
        "# Question 1 (30%): Importing data with Pandas"
      ]
    },
    {
      "cell_type": "code",
      "metadata": {
        "id": "IRqyECpiq9kL"
      },
      "source": [
        "ice_cream_part_one_url = 'https://raw.githubusercontent.com/sean-humpherys/randomfilestorage/main/ice_cream_part_one.csv'\n",
        "ice_cream_part_two_url = 'https://raw.githubusercontent.com/sean-humpherys/randomfilestorage/main/ice_cream_part_two.json'"
      ],
      "execution_count": null,
      "outputs": []
    },
    {
      "cell_type": "markdown",
      "source": [
        "### Q1.1 (5%) Import the pandas library as pd"
      ],
      "metadata": {
        "id": "2zV5pjm-gpGy"
      }
    },
    {
      "cell_type": "code",
      "source": [
        "# --- put your answer below ---\n",
        "import pandas as pd"
      ],
      "metadata": {
        "id": "sqmbHp_ZgkZK"
      },
      "execution_count": null,
      "outputs": []
    },
    {
      "cell_type": "markdown",
      "metadata": {
        "id": "eGikJ1sS8kt3"
      },
      "source": [
        "### Q1.2  (5%) Load the data stored in ```ice_cream_part_one.csv``` into Pandas DataFrames. No need to print the data yet."
      ]
    },
    {
      "cell_type": "code",
      "metadata": {
        "id": "CNunFdHOrRIY"
      },
      "source": [
        "# --- put your answer below ---\n",
        "ice_cream_part_one = pd.read_csv(ice_cream_part_one_url)"
      ],
      "execution_count": null,
      "outputs": []
    },
    {
      "cell_type": "markdown",
      "metadata": {
        "id": "EJ6zZrlJhqvK"
      },
      "source": [
        "### Q1.3  (5%) Load the data stored in ```ice_cream_part_two.json``` into Pandas DataFrames. No need to print the data yet."
      ]
    },
    {
      "cell_type": "code",
      "source": [
        "# --- put your answer below ---\n",
        "ice_cream_part_two = pd.read_json(ice_cream_part_two_url)"
      ],
      "metadata": {
        "id": "ZBFyykqyhzZS"
      },
      "execution_count": null,
      "outputs": []
    },
    {
      "cell_type": "markdown",
      "metadata": {
        "id": "BFj9lo7vsWXX"
      },
      "source": [
        "### 1.4  (5%) Print the information or head of both dataframes, respectively"
      ]
    },
    {
      "cell_type": "code",
      "source": [
        "# ---put your answer below--\n",
        "print(ice_cream_part_one.head())\n",
        "print(ice_cream_part_two.head())"
      ],
      "metadata": {
        "id": "jGyiHjPChUcp",
        "colab": {
          "base_uri": "https://localhost:8080/"
        },
        "outputId": "6ecbc815-00d8-46a5-cd51-113271c0e74b"
      },
      "execution_count": null,
      "outputs": [
        {
          "output_type": "stream",
          "name": "stdout",
          "text": [
            "  Ice_Cream_Flavor Like_It_Percentage Favorite_Percentage\n",
            "0            peach                22%                  1%\n",
            "1     butterscotch                16%                  1%\n",
            "2   chocolate chip                39%                  2%\n",
            "3        chocolate                51%                 10%\n",
            "4          vanilla                59%                 11%\n",
            "          Ice_Cream_Flavor Like_It_Percentage Favorite_Percentage\n",
            "0               strawberry                43%                  6%\n",
            "1  chocolate peanut butter                26%                  5%\n",
            "2             butter pecan                35%                  8%\n",
            "3        cookies and cream                43%                  7%\n",
            "4      mint chocolate chip                33%                  9%\n"
          ]
        }
      ]
    },
    {
      "cell_type": "markdown",
      "metadata": {
        "id": "8mBPUYmluWje"
      },
      "source": [
        "### 1.5  (5%) Combine the two dataframes into one panda dataframe called \"ice_cream\". ###\n",
        "If you need a hint, search on Google \"combine two pandas dataframes\", \"join two pandas dataframes\", or \"concatenate pandas dataframe\". Searching with the correct phrase is a useful data engineering technique."
      ]
    },
    {
      "cell_type": "code",
      "source": [
        "# ---put your answer below ---\n",
        "ice_cream=pd.concat([ice_cream_part_one, ice_cream_part_two], ignore_index=True)"
      ],
      "metadata": {
        "id": "AsN8yKvWh_ga"
      },
      "execution_count": null,
      "outputs": []
    },
    {
      "cell_type": "markdown",
      "source": [
        "### 1.6  (5%) Print the contents of the ice_cream dataframe. ###"
      ],
      "metadata": {
        "id": "s__qzS_XkHi2"
      }
    },
    {
      "cell_type": "code",
      "source": [
        "# ---put your answer below ---\n",
        "print(ice_cream)"
      ],
      "metadata": {
        "id": "_-la7OV1kdA2",
        "colab": {
          "base_uri": "https://localhost:8080/"
        },
        "outputId": "b577cdcf-8dcf-48d1-fbb5-cba0b1751b98"
      },
      "execution_count": null,
      "outputs": [
        {
          "output_type": "stream",
          "name": "stdout",
          "text": [
            "               Ice_Cream_Flavor Like_It_Percentage Favorite_Percentage\n",
            "0                         peach                22%                  1%\n",
            "1                  butterscotch                16%                  1%\n",
            "2                chocolate chip                39%                  2%\n",
            "3                     chocolate                51%                 10%\n",
            "4                       vanilla                59%                 11%\n",
            "5                        coffee                23%                  5%\n",
            "6                       caramel                33%                  3%\n",
            "7                 peanut butter                21%                  2%\n",
            "8                    neopolitan                30%                  2%\n",
            "9                        cherry                23%                  2%\n",
            "10  chocolate chip cookie dough                34%                  6%\n",
            "11                birthday cake                20%                  2%\n",
            "12                    raspberry                18%                  1%\n",
            "13                  cake batter                15%                  1%\n",
            "14                   rocky road                29%                  4%\n",
            "15                    pistachio                23%                  4%\n",
            "16                     jalapeno                NaN                    \n",
            "17                   strawberry                43%                  6%\n",
            "18      chocolate peanut butter                26%                  5%\n",
            "19                 butter pecan                35%                  8%\n",
            "20            cookies and cream                43%                  7%\n",
            "21          mint chocolate chip                33%                  9%\n"
          ]
        }
      ]
    },
    {
      "cell_type": "markdown",
      "source": [
        "# Question Two. (50%) Clean the data in preparation for data analysis. #\n"
      ],
      "metadata": {
        "id": "eMjvcheRmA8V"
      }
    },
    {
      "cell_type": "markdown",
      "source": [
        "### Q2.1 (10%) Remove missing data. Notice the row on Jalapeno ice cream does not have like it percentage or favorite percentage. Remove any row with missing data.###\n",
        "This was not taught yet in Datacamp. However, as a data engineer you will find yourself needing to learn how to do tasks not previously learned before. Consider searching Google for \"pandas remove missing values\" or \"pandas remove blank rows\"."
      ],
      "metadata": {
        "id": "4sM3CCG7kjvF"
      }
    },
    {
      "cell_type": "code",
      "source": [
        "# --- put your answer below ---\n",
        "ice_cream.dropna(inplace= True)"
      ],
      "metadata": {
        "id": "ZRZ9CwSGk6RW"
      },
      "execution_count": null,
      "outputs": []
    },
    {
      "cell_type": "markdown",
      "source": [
        "### Q2.2 (10%) Capitalize all the ice cream flavor names. Each word should start with a capital letter, e.g. \"rocky road\" should become \"Rocky Road\". Print the contents of the Ice_Cream_Flavors column to show you were successful.###\n",
        "This was not taught in Datacamp. However, as a data engineer you will find yourself needing to learn how to do tasks not previously learned before. Consider searching Google for \"how to capitalize first letter in a word in pandas dataframe\" or \"capitalize first letter of each word in pandas\"."
      ],
      "metadata": {
        "id": "Icu2o2hBlB4d"
      }
    },
    {
      "cell_type": "code",
      "source": [
        "# --- put your answer below ---\n",
        "ice_cream['Ice_Cream_Flavor']= ice_cream['Ice_Cream_Flavor'].str.title()\n",
        "print(ice_cream.head())"
      ],
      "metadata": {
        "id": "qa4Mwkk9l7j2",
        "colab": {
          "base_uri": "https://localhost:8080/"
        },
        "outputId": "1e3f473d-96d1-404b-ec56-896ab14b9987"
      },
      "execution_count": null,
      "outputs": [
        {
          "output_type": "stream",
          "name": "stdout",
          "text": [
            "  Ice_Cream_Flavor Like_It_Percentage Favorite_Percentage\n",
            "0            Peach                22%                  1%\n",
            "1     Butterscotch                16%                  1%\n",
            "2   Chocolate Chip                39%                  2%\n",
            "3        Chocolate                51%                 10%\n",
            "4          Vanilla                59%                 11%\n"
          ]
        }
      ]
    },
    {
      "cell_type": "markdown",
      "source": [
        "### Q2.3 (10%) Remove the % character from the values in \"Like_It_Percentage\" and \"Favorite_Percentage\". And, print the contents of the dataframe to show you were successful.###\n",
        "For example, the value 35% becomes just 35. We don't need the % character. We just want the integers. Consider searching Google for \"how to remove the last character from pandas column\"."
      ],
      "metadata": {
        "id": "XwHMqqNinT0D"
      }
    },
    {
      "cell_type": "code",
      "source": [
        "# --- put your answer below ---\n",
        "ice_cream['Like_It_Percentage']= ice_cream['Like_It_Percentage'].str.rstrip('%').astype(float)\n",
        "ice_cream['Favorite_Percentage']= ice_cream['Favorite_Percentage'].str.rstrip('%').astype(float)\n",
        "print(ice_cream.head())"
      ],
      "metadata": {
        "id": "Mb3VEQbKoGQx",
        "colab": {
          "base_uri": "https://localhost:8080/"
        },
        "outputId": "a24a018c-dab5-4efd-a09e-09b525d81e80"
      },
      "execution_count": null,
      "outputs": [
        {
          "output_type": "stream",
          "name": "stdout",
          "text": [
            "  Ice_Cream_Flavor  Like_It_Percentage  Favorite_Percentage\n",
            "0            Peach                22.0                  1.0\n",
            "1     Butterscotch                16.0                  1.0\n",
            "2   Chocolate Chip                39.0                  2.0\n",
            "3        Chocolate                51.0                 10.0\n",
            "4          Vanilla                59.0                 11.0\n"
          ]
        }
      ]
    },
    {
      "cell_type": "markdown",
      "source": [
        "### Q2.4 (10%) List the data so we know the most favorite to least faavorite ice cream flavors. Sort the data based by the highest liked percentage to the lowest liked percentage. If there is a tie, secondarily sort by those who say the ice cream is their favorite. Print the sorted dataframe.###"
      ],
      "metadata": {
        "id": "N_NG3Gyhp0gu"
      }
    },
    {
      "cell_type": "code",
      "source": [
        "# --- put your answer below ---\n",
        "ice_cream= ice_cream.sort_values(by=['Like_It_Percentage', 'Favorite_Percentage'], ascending= [False, False])\n",
        "print(ice_cream)"
      ],
      "metadata": {
        "id": "1ZMOvLkzqZu5",
        "colab": {
          "base_uri": "https://localhost:8080/"
        },
        "outputId": "c4fa7b96-0aba-4df8-e559-218dd8619f1d"
      },
      "execution_count": null,
      "outputs": [
        {
          "output_type": "stream",
          "name": "stdout",
          "text": [
            "               Ice_Cream_Flavor  Like_It_Percentage  Favorite_Percentage\n",
            "4                       Vanilla                59.0                 11.0\n",
            "3                     Chocolate                51.0                 10.0\n",
            "20            Cookies And Cream                43.0                  7.0\n",
            "17                   Strawberry                43.0                  6.0\n",
            "2                Chocolate Chip                39.0                  2.0\n",
            "19                 Butter Pecan                35.0                  8.0\n",
            "10  Chocolate Chip Cookie Dough                34.0                  6.0\n",
            "21          Mint Chocolate Chip                33.0                  9.0\n",
            "6                       Caramel                33.0                  3.0\n",
            "8                    Neopolitan                30.0                  2.0\n",
            "14                   Rocky Road                29.0                  4.0\n",
            "18      Chocolate Peanut Butter                26.0                  5.0\n",
            "5                        Coffee                23.0                  5.0\n",
            "15                    Pistachio                23.0                  4.0\n",
            "9                        Cherry                23.0                  2.0\n",
            "0                         Peach                22.0                  1.0\n",
            "7                 Peanut Butter                21.0                  2.0\n",
            "11                Birthday Cake                20.0                  2.0\n",
            "12                    Raspberry                18.0                  1.0\n",
            "1                  Butterscotch                16.0                  1.0\n",
            "13                  Cake Batter                15.0                  1.0\n"
          ]
        }
      ]
    },
    {
      "cell_type": "markdown",
      "source": [
        "### Q2.5 (10%) Filter out any ice cream flavors with a like it percentage less than 20%, keep those with a value of 20% and above. Store the new dataset in a dataframe called \"top_ice_creams\". Print the new dataframe.##"
      ],
      "metadata": {
        "id": "-XFEilnCqmU3"
      }
    },
    {
      "cell_type": "code",
      "source": [
        "# --- put your answer below ---\n",
        "top_ice_creams= ice_cream[ice_cream['Like_It_Percentage']>= 20]\n",
        "print(top_ice_creams)"
      ],
      "metadata": {
        "id": "rC5H1mbZq4Rd",
        "colab": {
          "base_uri": "https://localhost:8080/"
        },
        "outputId": "dd1eb0c9-06eb-441c-fbe1-0fbbaf311d1f"
      },
      "execution_count": null,
      "outputs": [
        {
          "output_type": "stream",
          "name": "stdout",
          "text": [
            "               Ice_Cream_Flavor  Like_It_Percentage  Favorite_Percentage\n",
            "4                       Vanilla                59.0                 11.0\n",
            "3                     Chocolate                51.0                 10.0\n",
            "20            Cookies And Cream                43.0                  7.0\n",
            "17                   Strawberry                43.0                  6.0\n",
            "2                Chocolate Chip                39.0                  2.0\n",
            "19                 Butter Pecan                35.0                  8.0\n",
            "10  Chocolate Chip Cookie Dough                34.0                  6.0\n",
            "21          Mint Chocolate Chip                33.0                  9.0\n",
            "6                       Caramel                33.0                  3.0\n",
            "8                    Neopolitan                30.0                  2.0\n",
            "14                   Rocky Road                29.0                  4.0\n",
            "18      Chocolate Peanut Butter                26.0                  5.0\n",
            "5                        Coffee                23.0                  5.0\n",
            "15                    Pistachio                23.0                  4.0\n",
            "9                        Cherry                23.0                  2.0\n",
            "0                         Peach                22.0                  1.0\n",
            "7                 Peanut Butter                21.0                  2.0\n",
            "11                Birthday Cake                20.0                  2.0\n"
          ]
        }
      ]
    },
    {
      "cell_type": "markdown",
      "metadata": {
        "id": "BgS7mdxr2-Ps"
      },
      "source": [
        "# Question Three (20%) #\n",
        "###Create a simple bar graph of the top 20 ice cream flavors. Put the ice cream flavors on the x-axis and the like it percentage on the y-axis. Show the bar graph.###\n",
        "Consider searching Google with \"pandas bar chart\" or \"pandas plot\".\n"
      ]
    },
    {
      "cell_type": "code",
      "source": [
        "# -- put your answer below ---\n",
        "import matplotlib.pyplot as plt\n",
        "\n",
        "top_20= top_ice_creams.head(20)\n",
        "plt.figure(figsize=(12, 6))\n",
        "plt.bar(top_20['Ice_Cream_Flavor'], top_20['Like_It_Percentage'])\n",
        "plt.xticks(rotation=90)\n",
        "plt.xlabel('Ice Cream Flavor')\n",
        "plt.xlabel('Like It Percentage')\n",
        "plt.title(\"Top 20 Ice Cream Flavors\")\n",
        "plt.tight_layout()\n",
        "plt.show()"
      ],
      "metadata": {
        "id": "vU68YvCLslmT",
        "colab": {
          "base_uri": "https://localhost:8080/",
          "height": 580
        },
        "outputId": "6a82b077-94d0-4090-83e1-c7f8e6f208ee"
      },
      "execution_count": null,
      "outputs": [
        {
          "output_type": "display_data",
          "data": {
            "text/plain": [
              "<Figure size 1200x600 with 1 Axes>"
            ],
            "image/png": "[encoded data removed]"
          },
          "metadata": {}
        }
      ]
    },
    {
      "cell_type": "markdown",
      "source": [
        "### The End. Congrats on importing and cleaning data, with a simple data visualization at the end. ###\n",
        "If you need help, reach out to the CIS tutors or the professor."
      ],
      "metadata": {
        "id": "LVH4czhasppO"
      }
    }
  ]
}