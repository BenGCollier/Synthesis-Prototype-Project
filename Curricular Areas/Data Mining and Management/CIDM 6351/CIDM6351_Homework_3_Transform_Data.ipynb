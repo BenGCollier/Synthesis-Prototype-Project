{
  "nbformat": 4,
  "nbformat_minor": 0,
  "metadata": {
    "colab": {
      "provenance": []
    },
    "kernelspec": {
      "name": "python3",
      "display_name": "Python 3"
    },
    "language_info": {
      "name": "python"
    }
  },
  "cells": [
    {
      "cell_type": "markdown",
      "source": [
        "\n",
        "# CIDM6351 Homework 3 Transform Data instructions  \n",
        "\n",
        "In this homework, you will apply transformation operations on various datasets and answer some questions about the data.\n",
        "\n",
        "TASK:   \n",
        "1. Copy and save a copy of this Google Colab notebook\n",
        "2. Change the Share's General Access to \"Anyone with a link\" so that the professor can see your code\n",
        "3. When done, deliver the URL of your notebook to \\\\WTclass\\cidm6351\\lessons\\Week 9\\Turn in Homework 3\\\n",
        "\n",
        "Purpose: After loading and cleaning data, the next operation usually required by data engineers is to transform the data. Transform means to change the dataset, e.g., create new columns or group by rows."
      ],
      "metadata": {
        "id": "QSUfu1hW7VkL"
      }
    },
    {
      "cell_type": "markdown",
      "source": [
        "## Analyze the Bike Rental Market in Seoul Korea.\n",
        "The city has a bike rental option to aid public transport. Load, clean, transform the data to perform a useful analysis. <br>\n",
        "<img src=\"https://upload.wikimedia.org/wikipedia/commons/9/97/North_Korea_Bike_Tour_%2814115456159%29.jpg\" height=\"100px\" alt=\"bikes\"><br>\n",
        "\n",
        "Photo: Uri Tours (uritours.com), CC BY-SA 2.0 <https://creativecommons.org/licenses/by-sa/2.0>, via Wikimedia Commons.\n",
        "\n",
        "The original author and source of the data is found here: <https://www.kaggle.com/datasets/willianoliveiragibin/bike-seoul-sharing/?select=SeoulBikeData.csv>"
      ],
      "metadata": {
        "id": "LqoMR1Or88fy"
      }
    },
    {
      "cell_type": "markdown",
      "source": [
        "## Task 1: Load the data\n",
        "\n",
        "Import the Seoul Korea Bike data into a pandas dataframe. The URL to the raw data on github is already provided for you in the code below. Inspect the data with .head and .info.\n",
        "\n",
        "Data dictionary:  \n",
        "Rented bike count is the number of bikes rented. <br>\n",
        "Date is the day of the rental. Notice the date format is day, month, year DD/MM/YYYY.  <br>\n",
        "Hour is the hour of the day in 24-hour military time, e.g. 12 is noon and 23 hours is 11pm.  <br>\n",
        "Temperature is the ambient temperature in Celsius.  <br>\n",
        "To see the other columns, visit the kaggle.com website click the Column's tab to see a list of the columns and their unit of measure.\n",
        "\n",
        "\n"
      ],
      "metadata": {
        "id": "TCUTlSbh--gr"
      }
    },
    {
      "cell_type": "code",
      "execution_count": null,
      "metadata": {
        "id": "tYF2xmGh7OTN",
        "colab": {
          "base_uri": "https://localhost:8080/"
        },
        "outputId": "ebcf51fa-51de-4441-9646-9775d08e919b"
      },
      "outputs": [
        {
          "output_type": "stream",
          "name": "stdout",
          "text": [
            "         Date  Rented Bike Count  Hour  Temperature(C)  Humidity(%)  \\\n",
            "0  01/12/2017                254     0            -5.2           37   \n",
            "1  01/12/2017                204     1            -5.5           38   \n",
            "2  01/12/2017                173     2            -6.0           39   \n",
            "3  01/12/2017                107     3            -6.2           40   \n",
            "4  01/12/2017                 78     4            -6.0           36   \n",
            "\n",
            "   Wind speed (m/s)  Visibility (10m)  Dew point temperature(C)  \\\n",
            "0               2.2              2000                     -17.6   \n",
            "1               0.8              2000                     -17.6   \n",
            "2               1.0              2000                     -17.7   \n",
            "3               0.9              2000                     -17.6   \n",
            "4               2.3              2000                     -18.6   \n",
            "\n",
            "   Solar Radiation (MJ/m2)  Rainfall(mm)  Snowfall (cm) Seasons     Holiday  \\\n",
            "0                      0.0           0.0            0.0  Winter  No Holiday   \n",
            "1                      0.0           0.0            0.0  Winter  No Holiday   \n",
            "2                      0.0           0.0            0.0  Winter  No Holiday   \n",
            "3                      0.0           0.0            0.0  Winter  No Holiday   \n",
            "4                      0.0           0.0            0.0  Winter  No Holiday   \n",
            "\n",
            "  Functioning Day  \n",
            "0             Yes  \n",
            "1             Yes  \n",
            "2             Yes  \n",
            "3             Yes  \n",
            "4             Yes  \n",
            "<class 'pandas.core.frame.DataFrame'>\n",
            "RangeIndex: 8760 entries, 0 to 8759\n",
            "Data columns (total 14 columns):\n",
            " #   Column                    Non-Null Count  Dtype  \n",
            "---  ------                    --------------  -----  \n",
            " 0   Date                      8760 non-null   object \n",
            " 1   Rented Bike Count         8760 non-null   int64  \n",
            " 2   Hour                      8760 non-null   int64  \n",
            " 3   Temperature(C)            8760 non-null   float64\n",
            " 4   Humidity(%)               8760 non-null   int64  \n",
            " 5   Wind speed (m/s)          8760 non-null   float64\n",
            " 6   Visibility (10m)          8760 non-null   int64  \n",
            " 7   Dew point temperature(C)  8760 non-null   float64\n",
            " 8   Solar Radiation (MJ/m2)   8760 non-null   float64\n",
            " 9   Rainfall(mm)              8760 non-null   float64\n",
            " 10  Snowfall (cm)             8760 non-null   float64\n",
            " 11  Seasons                   8760 non-null   object \n",
            " 12  Holiday                   8760 non-null   object \n",
            " 13  Functioning Day           8760 non-null   object \n",
            "dtypes: float64(6), int64(4), object(4)\n",
            "memory usage: 958.2+ KB\n",
            "None\n"
          ]
        }
      ],
      "source": [
        "import pandas as pd\n",
        "seoul_bike_data_url = 'https://raw.githubusercontent.com/sean-humpherys/randomfilestorage/main/seoulbikedata.csv'\n",
        "df = pd.read_csv(seoul_bike_data_url)\n",
        "print(df.head())\n",
        "print(df.info())"
      ]
    },
    {
      "cell_type": "markdown",
      "source": [
        "## Task 2: Transform Columns\n",
        "\n",
        "Transform your data by removing unneeded columns. Remove all columns except Date, Rented Bike Count, Hour, Temperature(C). Rename Temperature(C) to just Temperature."
      ],
      "metadata": {
        "id": "du1k6xyCASBL"
      }
    },
    {
      "cell_type": "code",
      "source": [
        "df= df[['Date', 'Rented Bike Count', 'Hour', 'Temperature(C)']]\n",
        "df.rename(columns={'Temperature(C)':'Temperature'}, inplace= True)"
      ],
      "metadata": {
        "id": "4uhRTrNJANed",
        "colab": {
          "base_uri": "https://localhost:8080/"
        },
        "outputId": "3d2a3708-f0d3-4f01-e60a-57b8c7bb85bd"
      },
      "execution_count": null,
      "outputs": [
        {
          "output_type": "stream",
          "name": "stderr",
          "text": [
            "<ipython-input-32-db1d05235ff5>:2: SettingWithCopyWarning: \n",
            "A value is trying to be set on a copy of a slice from a DataFrame\n",
            "\n",
            "See the caveats in the documentation: https://pandas.pydata.org/pandas-docs/stable/user_guide/indexing.html#returning-a-view-versus-a-copy\n",
            "  df.rename(columns={'Temperature(C)':'Temperature'}, inplace= True)\n"
          ]
        }
      ]
    },
    {
      "cell_type": "markdown",
      "source": [
        "## Task 3: Scatterplot\n",
        "\n",
        "We want to answer \"What happens to the rented bike count as the temperature change?\" Create a simple scatterplot between rented bike count and temperature. Label your axis."
      ],
      "metadata": {
        "id": "tCcpGNfIAwvy"
      }
    },
    {
      "cell_type": "code",
      "source": [
        "import matplotlib.pyplot as plt\n",
        "\n",
        "plt.scatter(df['Temperature'], df['Rented Bike Count'])\n",
        "plt.xlabel('Temperature (C)')\n",
        "plt.ylabel('Rented Bike Count')\n",
        "plt.title('Scatterplot')\n",
        "plt.show()"
      ],
      "metadata": {
        "id": "EwX7i-aMAtNC",
        "colab": {
          "base_uri": "https://localhost:8080/",
          "height": 472
        },
        "outputId": "8354b882-e5ac-43bf-84f4-4463f1cf0f4d"
      },
      "execution_count": null,
      "outputs": [
        {
          "output_type": "display_data",
          "data": {
            "text/plain": [
              "<Figure size 640x480 with 1 Axes>"
            ],
            "image/png": "[encoded data removed]"
          },
          "metadata": {}
        }
      ]
    },
    {
      "cell_type": "markdown",
      "source": [
        "## Question 1: What happens to the rented bike count as the temperature change? <br>\n",
        "(Edit this text box to add your answer in a short sentence or two. You can edit text boxes in Google Colab using the markdown language. If you need to learn markdown, Google \"markdown basics.\")<br>\n",
        "Put your answer here: When the temperature increases, the count of rented bikes goes up. For bike rentals, this makes complete sense.\n",
        "\n",
        "\n",
        "\n",
        "\n"
      ],
      "metadata": {
        "id": "HbVlD1ctBaP7"
      }
    },
    {
      "cell_type": "markdown",
      "source": [
        "## Task 4: Group By\n",
        "\n",
        "Write code that groups the Seoul bike data by hour and sums the rented bike count for each hour. Use the entire dataset and do not filter rows or groupby day. Sort the data by rented bike count from highest sum of rental count to lowest rental count. Print a table that summarizes this data.\n",
        "\n",
        "Hint: Datacamp taught you how to group by, but if you need a refresher search Google for \"pandas groupby aggregate count\"."
      ],
      "metadata": {
        "id": "2KD387pbCApJ"
      }
    },
    {
      "cell_type": "code",
      "source": [
        "rentals_hourly= df.groupby('Hour')[\"Rented Bike Count\"].sum().reset_index()\n",
        "rentals_hourly= rentals_hourly.sort_values(by='Rented Bike Count', ascending= False)\n",
        "print(rentals_hourly)"
      ],
      "metadata": {
        "id": "jxSb53JKDNj2",
        "colab": {
          "base_uri": "https://localhost:8080/"
        },
        "outputId": "59202af9-1f3c-4c6e-e153-fa1623aba8dd"
      },
      "execution_count": null,
      "outputs": [
        {
          "output_type": "stream",
          "name": "stdout",
          "text": [
            "    Hour  Rented Bike Count\n",
            "18    18             548568\n",
            "19    19             436229\n",
            "17    17             415556\n",
            "20    20             390172\n",
            "21    21             376479\n",
            "8      8             370731\n",
            "16    16             339677\n",
            "22    22             336821\n",
            "15    15             302653\n",
            "14    14             276971\n",
            "13    13             267635\n",
            "12    12             255296\n",
            "23    23             244961\n",
            "9      9             235784\n",
            "7      7             221192\n",
            "11    11             219311\n",
            "0      0             197633\n",
            "10    10             192655\n",
            "1      1             155557\n",
            "2      2             110095\n",
            "6      6             104961\n",
            "3      3              74216\n",
            "5      5              50765\n",
            "4      4              48396\n"
          ]
        }
      ]
    },
    {
      "cell_type": "markdown",
      "source": [
        "## Question 2: What hours of the day have the highest bike rentals? <br>\n",
        "(Edit this text box to add your answer in a short sentence or two. State the top three hours of the day that have the highest bike rentals so that officials can ensure that there are enough bikes in working condition during those times. )<br>\n",
        "Enter your answer here: The top three hours of the day are 18, 19, and 17, respectfully.\n",
        "\n"
      ],
      "metadata": {
        "id": "G0VYyVraDP7D"
      }
    },
    {
      "cell_type": "markdown",
      "source": [
        "## Task 5: Read about How to Melt from Wide Format to Long Format\n",
        "The Seoul Korea data is in a long format, e.g. each date/hour is a separate row. Sometimes our data comes in wide format (an example is provide shortly). As data engineers we have need to transform our data between long and wide format using Pandas melt and pivot methods. Long data is often prefered by machine learning tasks. Wide format is sometimes required for a statistical analysis for comparison of how data over time, e.g. how a student improves over time or how a patient loses weight from the start to end of a treatment program.\n",
        "\n",
        "Read this article on how to melt data from wide format to long format.\n",
        "<https://www.kdnuggets.com/2023/03/beginner-guide-pandas-melt-function.html>"
      ],
      "metadata": {
        "id": "rfH3JyueITL8"
      }
    },
    {
      "cell_type": "code",
      "source": [
        "# This data is fake for the purpose of learning .melt()\n",
        "nba_player_twitter_count_url = 'https://raw.githubusercontent.com/sean-humpherys/randomfilestorage/main/nba_player_twitter_count_data.csv'"
      ],
      "metadata": {
        "id": "8A_lPzxfMqvj"
      },
      "execution_count": null,
      "outputs": []
    },
    {
      "cell_type": "markdown",
      "source": [
        "## Task 6: Load and Clean Data\n",
        "\n",
        "Load the NBA data into a pandas dataframe. Inspect the data with .head and .info. Remove any empty data rows. <br>\n",
        "Data Dictionary: <br>\n",
        "NBA Player Name: first and last name of the player<br>\n",
        "2020: count of Twitter messages for that year<br>\n",
        "2021: count of Twitter messages for that year<br>\n",
        "2022: count of Twitter messages for that year<br>\n",
        "2023: count of Twitter messages for that year<br>\n"
      ],
      "metadata": {
        "id": "HG6QImcYNl6D"
      }
    },
    {
      "cell_type": "code",
      "source": [
        "df2= pd.read_csv(nba_player_twitter_count_url)\n",
        "df2.dropna(inplace= True)\n",
        "print(df2.head())\n",
        "print(df2.info())"
      ],
      "metadata": {
        "id": "Il0IWqyNNe5L",
        "colab": {
          "base_uri": "https://localhost:8080/"
        },
        "outputId": "c2210dbd-a99a-4911-fc81-6eb5263fced2"
      },
      "execution_count": null,
      "outputs": [
        {
          "output_type": "stream",
          "name": "stdout",
          "text": [
            "     NBA Player Name    2020    2021    2022    2023\n",
            "0  Russell Westbrook   413.0  2857.0  1156.0  1158.0\n",
            "1       James Harden  2102.0  2426.0   200.0  1318.0\n",
            "2      Isaiah Thomas  2253.0   882.0   618.0  1372.0\n",
            "3      Anthony Davis  2588.0   560.0  2480.0  2072.0\n",
            "4      DeMar DeRozan  2146.0  2084.0  1662.0  1189.0\n",
            "<class 'pandas.core.frame.DataFrame'>\n",
            "Int64Index: 8 entries, 0 to 7\n",
            "Data columns (total 5 columns):\n",
            " #   Column           Non-Null Count  Dtype  \n",
            "---  ------           --------------  -----  \n",
            " 0   NBA Player Name  8 non-null      object \n",
            " 1   2020             8 non-null      float64\n",
            " 2   2021             8 non-null      float64\n",
            " 3   2022             8 non-null      float64\n",
            " 4   2023             8 non-null      float64\n",
            "dtypes: float64(4), object(1)\n",
            "memory usage: 384.0+ bytes\n",
            "None\n"
          ]
        }
      ]
    },
    {
      "cell_type": "markdown",
      "source": [
        "## Task 7: Melt\n",
        "\n",
        "Melt the data from wide format into long format. The long-format dataset will have the columns \"NBA Player Name\", \"Year\", \"Twitter Count\".\n",
        "Print the dataset to showcase your successful transformation.<br>\n",
        "Example: <br>\n",
        "NBA Player Name, Year, Twitter Count<br>\n",
        "Russell Westbrook, 2020, 413<br>\n",
        "Russell Westbrook, 2021, 2857<br>\n",
        "Russell Westbrook, 2022, 1156<br>\n",
        "...<br>\n",
        "\n"
      ],
      "metadata": {
        "id": "KF-ATbDNOHUL"
      }
    },
    {
      "cell_type": "code",
      "source": [
        "df2_long= pd.melt(df2, id_vars= ['NBA Player Name'], var_name= 'Year', value_name= \"Twitter Count\")\n",
        "print(df2_long)"
      ],
      "metadata": {
        "id": "q_nPKl2JPTTK",
        "colab": {
          "base_uri": "https://localhost:8080/"
        },
        "outputId": "1b872733-8072-45f9-8d57-fee75f52a86d"
      },
      "execution_count": null,
      "outputs": [
        {
          "output_type": "stream",
          "name": "stdout",
          "text": [
            "      NBA Player Name  Year  Twitter Count\n",
            "0   Russell Westbrook  2020          413.0\n",
            "1        James Harden  2020         2102.0\n",
            "2       Isaiah Thomas  2020         2253.0\n",
            "3       Anthony Davis  2020         2588.0\n",
            "4       DeMar DeRozan  2020         2146.0\n",
            "5    DeMarcus Cousins  2020         2294.0\n",
            "6      Damian Lillard  2020          424.0\n",
            "7        LeBron James  2020         1465.0\n",
            "8   Russell Westbrook  2021         2857.0\n",
            "9        James Harden  2021         2426.0\n",
            "10      Isaiah Thomas  2021          882.0\n",
            "11      Anthony Davis  2021          560.0\n",
            "12      DeMar DeRozan  2021         2084.0\n",
            "13   DeMarcus Cousins  2021         1245.0\n",
            "14     Damian Lillard  2021         2832.0\n",
            "15       LeBron James  2021         1950.0\n",
            "16  Russell Westbrook  2022         1156.0\n",
            "17       James Harden  2022          200.0\n",
            "18      Isaiah Thomas  2022          618.0\n",
            "19      Anthony Davis  2022         2480.0\n",
            "20      DeMar DeRozan  2022         1662.0\n",
            "21   DeMarcus Cousins  2022         1625.0\n",
            "22     Damian Lillard  2022         1076.0\n",
            "23       LeBron James  2022          374.0\n",
            "24  Russell Westbrook  2023         1158.0\n",
            "25       James Harden  2023         1318.0\n",
            "26      Isaiah Thomas  2023         1372.0\n",
            "27      Anthony Davis  2023         2072.0\n",
            "28      DeMar DeRozan  2023         1189.0\n",
            "29   DeMarcus Cousins  2023         2238.0\n",
            "30     Damian Lillard  2023          719.0\n",
            "31       LeBron James  2023         1520.0\n"
          ]
        }
      ]
    },
    {
      "cell_type": "markdown",
      "source": [
        "## DONE!\n",
        "\n",
        "Upload the url of your notebook to WTclass.\n",
        "\n",
        "## Grading Rubric:  \n",
        "\n",
        "Each task is worth 10%. Each question is worth 15%."
      ],
      "metadata": {
        "id": "oLOgPdAKPhHU"
      }
    }
  ]
}