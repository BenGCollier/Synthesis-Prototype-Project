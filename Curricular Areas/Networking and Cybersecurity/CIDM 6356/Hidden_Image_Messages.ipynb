{
  "nbformat": 4,
  "nbformat_minor": 0,
  "metadata": {
    "colab": {
      "provenance": [],
      "authorship_tag": "ABX9TyOE5lTbRKmJB7Y0hZbNpIOc",
      "include_colab_link": true
    },
    "kernelspec": {
      "name": "python3",
      "display_name": "Python 3"
    },
    "language_info": {
      "name": "python"
    }
  },
  "cells": [
    {
      "cell_type": "markdown",
      "metadata": {
        "id": "view-in-github",
        "colab_type": "text"
      },
      "source": [
        "<a href=\"https://colab.research.google.com/github/BenGCollier/CIDM-6356/blob/main/Hidden_Image_Messages.ipynb\" target=\"_parent\"><img src=\"https://colab.research.google.com/assets/colab-badge.svg\" alt=\"Open In Colab\"/></a>"
      ]
    },
    {
      "cell_type": "code",
      "execution_count": null,
      "metadata": {
        "id": "xpxKrZ1lOqXQ"
      },
      "outputs": [],
      "source": [
        "!pip install stegano\n",
        "\n",
        "import os\n",
        "from stegano import lsb\n",
        "from PIL import Image"
      ]
    },
    {
      "cell_type": "code",
      "source": [
        "#Specify content directory path for image files\n",
        "directory_path= '/content'\n",
        "\n",
        "#Function for extracting messages from the images\n",
        "def extract_message(image_path):\n",
        "  img=Image.open(image_path)\n",
        "\n",
        "  try:\n",
        "    extracted_message = lsb.reveal(img)\n",
        "    return extracted_message\n",
        "  except Exception as e:\n",
        "    return f\"Error: {str(e)}\"\n",
        "\n",
        "#Process all PNG files in the content directory\n",
        "for filename in os.listdir(directory_path):\n",
        "  if filename.endswith(\".png\"):\n",
        "    image_path = os.path.join(directory_path, filename)\n",
        "\n",
        "    extracted_message = extract_message(image_path)\n",
        "\n",
        "    print(f\"Filename: {filename}, Hidden Message: {extracted_message}\")"
      ],
      "metadata": {
        "colab": {
          "base_uri": "https://localhost:8080/"
        },
        "id": "o_v7F1GEPZTl",
        "outputId": "0de4ffe3-9ded-4d93-c819-0e5f8425d3e4"
      },
      "execution_count": null,
      "outputs": [
        {
          "output_type": "stream",
          "name": "stdout",
          "text": [
            "Filename: secret_sunset_JAGDALE.png, Hidden Message: I <3 Chai\n",
            "Filename: stars_modified_Mayilsamy.png, Hidden Message: Hi!! My name is Priya. Nice to meet you !\n",
            "Filename: Sunset-Mountains_modified.png, Hidden Message: May the force be with you.\n",
            "Filename: iron_FUDALA_modified.png, Hidden Message: Don't meddle with things, you don't understand\n",
            "Filename: Sanchez.png, Hidden Message: Do I really look like a guy with a plan? You know what I am? I'm a dog chasing cars. I wouldn't know what to do with one if I caught it!\n",
            "Filename: LanaBracken_buffalo_modified.png, Hidden Message: On, on Buffaloes,,, we'll bring home the victory!  W-T-A-M-, WTAM, Fight! Fight! Fight!\n",
            "Filename: sadcat_modified.png, Hidden Message: My Monday Mood\n",
            "Filename: cornfield_kuehler_modified.png, Hidden Message: Why did the scarecrow win an award? Because he was outstanding in his field!\n",
            "Filename: f16_modified_Yang.png, Hidden Message: Generation Four\n",
            "Filename: correa.png, Hidden Message: Domingo is the best student in this class\n",
            "Filename: universe_modified - Noroozi.png, Hidden Message: life is full of surprises\n",
            "Filename: simplyhired_modified_Kennady.png, Hidden Message: Capture Flag event is my first assignment in Digital Forensics\n",
            "Filename: sunset_Dupree.png, Hidden Message: Just like the moons and the suns, With the certainty of the tides, Just like the hopes springing high, Still I rise.\n",
            "Filename: PointMuguBurkett_modified.png, Hidden Message: These trails are by the beach.\n",
            "Filename: maroon_bells_modified_by_wang.png, Hidden Message: 404\n",
            "Filename: fox_modified_tanquerido.png, Hidden Message: What does the fox say?\n",
            "Filename: Knight_modified_Tarrant.png, Hidden Message: He who kneels before God can stand before anyone\n",
            "Filename: Palace_Modified_Collier.png, Hidden Message: The idyllic city of Beauclair and its palace at night.\n"
          ]
        }
      ]
    }
  ]
}