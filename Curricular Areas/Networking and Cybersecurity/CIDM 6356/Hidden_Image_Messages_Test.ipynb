{
  "nbformat": 4,
  "nbformat_minor": 0,
  "metadata": {
    "colab": {
      "provenance": [],
      "authorship_tag": "ABX9TyP4Sq7TFsn4hH29qjD7f6BL",
      "include_colab_link": true
    },
    "kernelspec": {
      "name": "python3",
      "display_name": "Python 3"
    },
    "language_info": {
      "name": "python"
    }
  },
  "cells": [
    {
      "cell_type": "markdown",
      "metadata": {
        "id": "view-in-github",
        "colab_type": "text"
      },
      "source": [
        "<a href=\"https://colab.research.google.com/github/BenGCollier/CIDM-6356/blob/main/Hidden_Image_Messages_Test.ipynb\" target=\"_parent\"><img src=\"https://colab.research.google.com/assets/colab-badge.svg\" alt=\"Open In Colab\"/></a>"
      ]
    },
    {
      "cell_type": "code",
      "execution_count": null,
      "metadata": {
        "id": "qyTaahLU-sTu"
      },
      "outputs": [],
      "source": [
        "!pip install stegano\n",
        "\n",
        "import os\n",
        "from stegano import lsb\n",
        "from PIL import Image\n",
        "import datetime"
      ]
    },
    {
      "cell_type": "code",
      "source": [
        "# Specify the directory path\n",
        "directory_path = '/content/'\n",
        "\n",
        "# Function to extract a message from an image and get the creation date\n",
        "def extract_message_and_date(image_path):\n",
        "    img = Image.open(image_path)\n",
        "\n",
        "    # Attempt to extract the message\n",
        "    try:\n",
        "        extracted_message = lsb.reveal(img)\n",
        "    except Exception as e:\n",
        "        extracted_message = f\"Error: {str(e)}\"\n",
        "\n",
        "    # Get the creation date of the file\n",
        "    created_time = os.path.getctime(image_path)\n",
        "    creation_date = datetime.datetime.fromtimestamp(created_time).strftime('%Y-%m-%d %H:%M:%S')\n",
        "\n",
        "    return extracted_message, creation_date\n",
        "\n",
        "# Process all PNG files in the specified directory\n",
        "for filename in os.listdir(directory_path):\n",
        "    if filename.endswith(\".png\"):\n",
        "        image_path = os.path.join(directory_path, filename)\n",
        "\n",
        "        # Extract the message and get the creation date\n",
        "        extracted_message, creation_date = extract_message_and_date(image_path)\n",
        "\n",
        "        # Print the extracted message, creation date, and file name\n",
        "        print(f\"File: {filename}, Extracted Message: {extracted_message}, Creation Date: {creation_date}\")\n"
      ],
      "metadata": {
        "colab": {
          "base_uri": "https://localhost:8080/"
        },
        "id": "NQESVy-R_ar0",
        "outputId": "348b9397-45ee-48d6-a94f-2ac6d0dd2064"
      },
      "execution_count": null,
      "outputs": [
        {
          "output_type": "stream",
          "name": "stdout",
          "text": [
            "File: secret_sunset_JAGDALE.png, Extracted Message: I <3 Chai, Creation Date: 2024-02-03 01:44:16\n",
            "File: stars_modified_Mayilsamy.png, Extracted Message: Hi!! My name is Priya. Nice to meet you !, Creation Date: 2024-02-03 01:44:27\n",
            "File: Sunset-Mountains_modified.png, Extracted Message: May the force be with you., Creation Date: 2024-02-03 01:44:31\n",
            "File: iron_FUDALA_modified.png, Extracted Message: Don't meddle with things, you don't understand, Creation Date: 2024-02-03 01:44:26\n",
            "File: Sanchez.png, Extracted Message: Do I really look like a guy with a plan? You know what I am? I'm a dog chasing cars. I wouldn't know what to do with one if I caught it!, Creation Date: 2024-02-03 01:44:22\n",
            "File: LanaBracken_buffalo_modified.png, Extracted Message: On, on Buffaloes,,, we'll bring home the victory!  W-T-A-M-, WTAM, Fight! Fight! Fight!, Creation Date: 2024-02-03 01:43:50\n",
            "File: sadcat_modified.png, Extracted Message: My Monday Mood, Creation Date: 2024-02-03 01:43:47\n",
            "File: cornfield_kuehler_modified.png, Extracted Message: Why did the scarecrow win an award? Because he was outstanding in his field!, Creation Date: 2024-02-03 01:44:20\n",
            "File: f16_modified_Yang.png, Extracted Message: Generation Four, Creation Date: 2024-02-03 01:44:37\n",
            "File: correa.png, Extracted Message: Domingo is the best student in this class, Creation Date: 2024-02-03 01:44:32\n",
            "File: universe_modified - Noroozi.png, Extracted Message: life is full of surprises, Creation Date: 2024-02-03 01:44:00\n",
            "File: simplyhired_modified_Kennady.png, Extracted Message: Capture Flag event is my first assignment in Digital Forensics, Creation Date: 2024-02-03 01:43:46\n",
            "File: sunset_Dupree.png, Extracted Message: Just like the moons and the suns, With the certainty of the tides, Just like the hopes springing high, Still I rise., Creation Date: 2024-02-03 01:43:49\n",
            "File: PointMuguBurkett_modified.png, Extracted Message: These trails are by the beach., Creation Date: 2024-02-03 01:44:53\n",
            "File: maroon_bells_modified_by_wang.png, Extracted Message: 404, Creation Date: 2024-02-03 01:44:30\n",
            "File: fox_modified_tanquerido.png, Extracted Message: What does the fox say?, Creation Date: 2024-02-03 01:43:57\n",
            "File: Knight_modified_Tarrant.png, Extracted Message: He who kneels before God can stand before anyone, Creation Date: 2024-02-03 01:44:09\n",
            "File: Palace_Modified_Collier.png, Extracted Message: The idyllic city of Beauclair and its palace at night., Creation Date: 2024-02-03 01:44:28\n"
          ]
        }
      ]
    }
  ]
}