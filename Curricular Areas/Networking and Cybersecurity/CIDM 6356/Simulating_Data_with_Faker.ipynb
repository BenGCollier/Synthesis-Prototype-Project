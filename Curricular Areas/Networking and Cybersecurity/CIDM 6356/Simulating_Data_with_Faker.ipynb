{
  "nbformat": 4,
  "nbformat_minor": 0,
  "metadata": {
    "colab": {
      "provenance": [],
      "authorship_tag": "ABX9TyMrL+Djf7YR8r9dCyVeSCoT",
      "include_colab_link": true
    },
    "kernelspec": {
      "name": "python3",
      "display_name": "Python 3"
    },
    "language_info": {
      "name": "python"
    }
  },
  "cells": [
    {
      "cell_type": "markdown",
      "metadata": {
        "id": "view-in-github",
        "colab_type": "text"
      },
      "source": [
        "<a href=\"https://colab.research.google.com/github/BenGCollier/CIDM-6356/blob/main/Simulating_Data_with_Faker.ipynb\" target=\"_parent\"><img src=\"https://colab.research.google.com/assets/colab-badge.svg\" alt=\"Open In Colab\"/></a>"
      ]
    },
    {
      "cell_type": "code",
      "execution_count": null,
      "metadata": {
        "colab": {
          "base_uri": "https://localhost:8080/"
        },
        "id": "c7TpT18esq_B",
        "outputId": "0ea7c475-f0d1-4df4-c4ec-ddf4fcab154f"
      },
      "outputs": [
        {
          "output_type": "stream",
          "name": "stdout",
          "text": [
            "Requirement already satisfied: Faker in /usr/local/lib/python3.10/dist-packages (24.3.0)\n",
            "Requirement already satisfied: python-dateutil>=2.4 in /usr/local/lib/python3.10/dist-packages (from Faker) (2.8.2)\n",
            "Requirement already satisfied: six>=1.5 in /usr/local/lib/python3.10/dist-packages (from python-dateutil>=2.4->Faker) (1.16.0)\n"
          ]
        }
      ],
      "source": [
        "!pip install Faker\n",
        "import csv\n",
        "import random\n",
        "from datetime import datetime, timedelta\n",
        "from faker import Faker\n",
        "from faker.providers import date_time, person, address, lorem"
      ]
    },
    {
      "cell_type": "code",
      "source": [
        "fake = Faker()\n",
        "fake.add_provider(date_time)\n",
        "fake.add_provider(person)\n",
        "fake.add_provider(address)\n",
        "fake.add_provider(lorem)"
      ],
      "metadata": {
        "id": "T3rGeP6VyIXt"
      },
      "execution_count": null,
      "outputs": []
    },
    {
      "cell_type": "code",
      "source": [
        "#Geneaology Records\n",
        "def generate_geneaology_data():\n",
        "  with open('genealogy_fake.csv', 'w', newline= '') as file:\n",
        "    writer = csv.writer(file)\n",
        "    writer.writerow([\"first_name\", \"middle_name\", \"last_name\", \"sex\", \"birth_date\", \"birth_city\", \"birth_country\", \"death_date\", \"death_city\", \"death_country\"])\n",
        "    for _ in range(800):\n",
        "      first_name = fake.word().capitalize()\n",
        "      sex = random.choice(['M', 'F'])\n",
        "      if sex == 'M':\n",
        "        middle_name = fake.first_name_male()\n",
        "      else:\n",
        "        middle_name = fake.first_name_female()\n",
        "      last_name = fake.last_name()\n",
        "      birth_date = fake.date_time_between(start_date='-324y', end_date='-124y').date()\n",
        "      death_date = fake.date_time_between(start_date=birth_date, end_date='-124y').date()\n",
        "      birth_city = fake.city()\n",
        "      birth_country = fake.country()\n",
        "      death_city = fake.city()\n",
        "      death_country = fake.country()\n",
        "      writer.writerow([first_name, middle_name, last_name, sex, birth_date, birth_city, birth_country, death_date, death_city, death_country])\n",
        "\n",
        "generate_geneaology_data()"
      ],
      "metadata": {
        "id": "Z-dRiW52yitJ"
      },
      "execution_count": null,
      "outputs": []
    },
    {
      "cell_type": "code",
      "source": [
        "#Text Messages\n",
        "def generate_text_message_data():\n",
        "  with open('text_messages_fake.csv', 'w', newline= '') as file:\n",
        "    writer = csv.writer(file)\n",
        "    writer.writerow([\"datetime_sent\", \"datetime_received\", \"from_phone_number\", \"to_phone_number\", \"os_platform_sender\", \"text_message\", \"emoji\"])\n",
        "    for _ in range(10000):\n",
        "      datetime_sent = fake.date_time_between_dates(datetime(2024, 2, 1), datetime(2024, 2, 29))\n",
        "      from_phone_number = fake.phone_number()\n",
        "      to_phone_number = fake.phone_number()\n",
        "      os_platform_sender = fake.random_element(elements=('iOS', 'Android'))\n",
        "      text_message = fake.text(max_nb_chars=160)\n",
        "      emoji = fake.random_element(elements=(None, fake.emoji()))\n",
        "      time_difference = timedelta(seconds=random.randint(5, 30))\n",
        "      datetime_received = datetime_sent + time_difference\n",
        "      writer.writerow([datetime_sent, datetime_received, from_phone_number, to_phone_number, os_platform_sender, text_message, emoji])\n",
        "\n",
        "generate_text_message_data()"
      ],
      "metadata": {
        "id": "bJAMnsPZyv_H"
      },
      "execution_count": null,
      "outputs": []
    },
    {
      "cell_type": "code",
      "source": [
        "#Books\n",
        "def generate_books_data():\n",
        "  with open('books_fake.csv', 'w', newline= '') as file:\n",
        "    writer = csv.writer(file)\n",
        "    writer.writerow([\"book_id\", \"isbn13\", \"book_title\", \"book_author_name\", \"book_genre\", \"brief_description\"])\n",
        "    for _ in range(100):\n",
        "      book_id = fake.random_int(min=10000, max=999999999)\n",
        "      isbn13 = fake.isbn13(separator=\"-\")\n",
        "      book_title = ' '.join(fake.words(nb=random.randint(1, 7)))\n",
        "      book_author_name = fake.name()\n",
        "      book_genre = random.choice(['fiction', 'historical fiction', 'science fiction', 'nonfiction', 'biography', 'graphic novel', 'youth', 'children'])\n",
        "      brief_description = ' '.join(fake.sentences(nb=5))\n",
        "      brief_description = brief_description.lstrip(\"['\").rstrip(\"']\")\n",
        "      writer.writerow([book_id, isbn13, book_title, book_author_name, book_genre, brief_description])\n",
        "\n",
        "generate_books_data()"
      ],
      "metadata": {
        "id": "Bs3GUFUPyzyH"
      },
      "execution_count": null,
      "outputs": []
    },
    {
      "cell_type": "code",
      "source": [
        "#Book Reviews\n",
        "book_ids = []\n",
        "\n",
        "with open('books_fake.csv', newline='') as file:\n",
        "  reader = csv.reader(file)\n",
        "  next(reader)\n",
        "  for row in reader:\n",
        "    book_ids.append(row[0])\n",
        "\n",
        "def generate_book_reviews_data():\n",
        "  with open('book_reviews_fake.csv', 'w', newline= '') as file:\n",
        "    writer = csv.writer(file)\n",
        "    writer.writerow([\"book_id\", \"user_name\", \"stars\", \"comment\"])\n",
        "    for _ in range(2000):\n",
        "      book_id = random.choice(book_ids)\n",
        "      user_name = fake.user_name()\n",
        "      stars = fake.random_int(1,5)\n",
        "      num_sentences = random.randint(3, 5)\n",
        "      comment = ' '.join(fake.sentences(nb=num_sentences))\n",
        "      comment = comment.lstrip(\"['\").rstrip(\"']\")\n",
        "      writer.writerow([book_id, user_name, stars, comment])\n",
        "\n",
        "generate_book_reviews_data()"
      ],
      "metadata": {
        "id": "4fJSqfSiy3jK"
      },
      "execution_count": null,
      "outputs": []
    }
  ]
}