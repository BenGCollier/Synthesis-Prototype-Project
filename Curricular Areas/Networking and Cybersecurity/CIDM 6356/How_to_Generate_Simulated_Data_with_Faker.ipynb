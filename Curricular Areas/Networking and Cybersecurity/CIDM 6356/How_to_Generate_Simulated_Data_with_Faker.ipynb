{
  "nbformat": 4,
  "nbformat_minor": 0,
  "metadata": {
    "colab": {
      "provenance": [],
      "include_colab_link": true
    },
    "kernelspec": {
      "name": "python3",
      "display_name": "Python 3"
    },
    "language_info": {
      "name": "python"
    }
  },
  "cells": [
    {
      "cell_type": "markdown",
      "metadata": {
        "id": "view-in-github",
        "colab_type": "text"
      },
      "source": [
        "<a href=\"https://colab.research.google.com/github/BenGCollier/CIDM-6356/blob/main/How_to_Generate_Simulated_Data_with_Faker.ipynb\" target=\"_parent\"><img src=\"https://colab.research.google.com/assets/colab-badge.svg\" alt=\"Open In Colab\"/></a>"
      ]
    },
    {
      "cell_type": "markdown",
      "source": [
        "<h1>How to Generate Simulated Data with Faker</h1>\n",
        "by Dr. Sean Humpherys<br>\n",
        "Faker is useful for data scientists and software engineers to create simulated data and simulated databases. For example, use Faker if you need to create simulated customers and simulated orders. Run the code cells below to explore how to use Faker. Run the code cells multiple times so you can see the random nature of the code. Experiment with the arguments to understand how things work. Any chages to code you make will be made to your session and not impact Dr. Humpherys' original code. Copy this notebook if you want to save your changes. <br>\n",
        " <a href=\"https://faker.readthedocs.io/en/master/\">Faker documentation (useful, but hard to understand)</a><br>\n",
        "<a href=\"https://faker.readthedocs.io/en/master/locales/en_US.html\">Faker index of methods (easier to understand)</a><br>\n"
      ],
      "metadata": {
        "id": "OGWIVfklVqZv"
      }
    },
    {
      "cell_type": "markdown",
      "source": [
        "### Video Lecture:\n",
        "<a href=\"https://www.screencast.com/t/Ebwun385g\"  target=\"_blank\">Part 1.</a> Dr. Humpherys explains the faker package, how to use it, how to add\n",
        "fake data to a pandas dataframe, and export the dataframe to a csv file (25 mins).<br>\n",
        "<a href=\"https://www.screencast.com/t/C2EIHUs7pD\" target=\"_blank\">Part 2.</a> How to create random numbers and related numeric data (11 mins).<br>\n",
        "<a href=\"https://www.screencast.com/t/gbeDzWrO1fi6\" target=\"_blank\">Part 3.</a> How to create random dates, text, and adjust the probability of the data (15 mins). <br>\n"
      ],
      "metadata": {
        "id": "pfXqmVCU2GAo"
      }
    },
    {
      "cell_type": "code",
      "execution_count": null,
      "metadata": {
        "id": "wV2G0ffcVnHC"
      },
      "outputs": [],
      "source": [
        "#Install the Faker package. The ! means run this command in the terminal.\n",
        "!pip install faker"
      ]
    },
    {
      "cell_type": "code",
      "source": [],
      "metadata": {
        "id": "Qcs9tbZYn-No"
      },
      "execution_count": null,
      "outputs": []
    },
    {
      "cell_type": "code",
      "source": [
        "#Import various packages\n",
        "from faker import Faker\n",
        "from datetime import date\n",
        "import pandas as pd\n",
        "\n",
        "#create a faker object\n",
        "fake = Faker()"
      ],
      "metadata": {
        "id": "ZCemwwlfWbvD"
      },
      "execution_count": null,
      "outputs": []
    },
    {
      "cell_type": "code",
      "source": [
        "#Run this code cell several times to see the random selections each time.\n",
        "fake.name_female()"
      ],
      "metadata": {
        "id": "AuqiC5YvXCHE"
      },
      "execution_count": null,
      "outputs": []
    },
    {
      "cell_type": "code",
      "source": [
        "# Create 20 names and append to a list\n",
        "customer_names = [] #empty list of customer names names\n",
        "for _ in range(20):\n",
        "  customer_names.append(fake.name())\n",
        "\n",
        "customer_names"
      ],
      "metadata": {
        "id": "6wqB5I_FXfze"
      },
      "execution_count": null,
      "outputs": []
    },
    {
      "cell_type": "markdown",
      "source": [
        "Note. You can change the localization if you want names from different countries. See the documentation for localized versions of Faker."
      ],
      "metadata": {
        "id": "JeslSZOT31Ze"
      }
    },
    {
      "cell_type": "code",
      "source": [
        "#Create an entire profile, but the data may be too real. Consider how to anonymize.\n",
        "fake.profile()"
      ],
      "metadata": {
        "id": "j8LDbd67YfGj"
      },
      "execution_count": null,
      "outputs": []
    },
    {
      "cell_type": "code",
      "source": [
        "'''Example of a more anonymized profile with random word\n",
        "instead of a first name, excludes social security number,\n",
        "and adds a safe email that is not real.\n",
        "'''\n",
        "customer = {\n",
        "    'first_name': fake.word().capitalize(), #random word. Use .capitalize() to capitalize the first letter.\n",
        "    'last_name': fake.last_name(),\n",
        "    'job': fake.job(),\n",
        "    'company': fake.company(),\n",
        "    'cellphone': fake.phone_number(),\n",
        "    'residence': fake.address(),\n",
        "    'email': fake.safe_email(),  #safely generates only @example domains.\n",
        "    'customer_id': fake.ean8() #ean is for barcode number but handy for long random integers.\n",
        "}\n",
        "customer"
      ],
      "metadata": {
        "id": "2sO6V5vFZDdu"
      },
      "execution_count": null,
      "outputs": []
    },
    {
      "cell_type": "markdown",
      "source": [
        "Our dictionary cannot be directly added to a panda dataframe without first agregating the dictionary(ies) into a list. </br>\n",
        "Below is an example of creating a list of dictionaries that can be added to a pandas dataframe. An alternative is to add the dictionary to a Panda Series object, then add the Series to a Panda DataFrame, but the list method is easier."
      ],
      "metadata": {
        "id": "s58yJKIDkL4-"
      }
    },
    {
      "cell_type": "code",
      "source": [
        "# Define a function for our custom, customer profile generator.\n",
        "def create_customer_profile():\n",
        "  '''\n",
        "  Create a custom, customer profile.\n",
        "  Returns a dictionary object.\n",
        "  '''\n",
        "  customer = {\n",
        "    'first_name': fake.word().capitalize(), #random word. Use .capitalize() to capitalize the first letter.\n",
        "    'last_name': fake.last_name(),\n",
        "    'job': fake.job(),\n",
        "    'company': fake.company(),\n",
        "    'cell_phone': fake.phone_number(),\n",
        "    'residence': fake.address(),\n",
        "    'email': fake.safe_email(),  #safely generates only @example domains.\n",
        "    'customer_id': fake.ean8() #ean is a barcode number but handy for long random integers\n",
        "    }\n",
        "  return customer\n",
        "\n",
        "\n",
        "#Add ten customers to a list\n",
        "COUNT = 10\n",
        "customers = [] #create empty list\n",
        "for _ in range(COUNT):\n",
        "  customers.append(create_customer_profile()) #calls create_customer_profile() and append to customers_list\n",
        "\n",
        "customers"
      ],
      "metadata": {
        "id": "CcoaOPSBg1E7"
      },
      "execution_count": null,
      "outputs": []
    },
    {
      "cell_type": "code",
      "source": [
        "# Add the list of customers to a pandas datafram\n",
        "customers_df = pd.DataFrame(customers)\n",
        "customers_df"
      ],
      "metadata": {
        "id": "G3BXTvz4gIJv"
      },
      "execution_count": null,
      "outputs": []
    },
    {
      "cell_type": "code",
      "source": [
        "# Save the dataframe as a csv file\n",
        "customers_df.to_csv('fake_customers.csv')"
      ],
      "metadata": {
        "id": "TM3vpRxUcjcz"
      },
      "execution_count": null,
      "outputs": []
    },
    {
      "cell_type": "markdown",
      "source": [
        "This fake_customers.csv file is saved to the Colab file system. You must manually download the file to your hard drive BEFORE terminating your Colab session or the file will be deleted automatically. Click the folder icon (far left), hover over fake_customers.csv, click the three dots &vellip; , then click 'download'."
      ],
      "metadata": {
        "id": "A4B-IAISkB0_"
      }
    },
    {
      "cell_type": "markdown",
      "source": [
        "###Adding more rows to an existing dataframe or concatenate two dataframes  "
      ],
      "metadata": {
        "id": "6ImLPdlk45pg"
      }
    },
    {
      "cell_type": "code",
      "source": [
        "#Add ten customers to a list\n",
        "COUNT = 5 #How many customers do you want?\n",
        "more_customers = [] #create empty list\n",
        "for _ in range(COUNT):\n",
        "  more_customers.append(create_customer_profile()) #call create_customer_profile() and append to customers_list\n",
        "\n",
        "more_customers_df = pd.DataFrame(more_customers)\n",
        "dfs_to_combine = [customers_df, more_customers_df]\n",
        "customers_df = pd.concat(dfs_to_combine, ignore_index=True)"
      ],
      "metadata": {
        "id": "jylur7XIfts5"
      },
      "execution_count": null,
      "outputs": []
    },
    {
      "cell_type": "code",
      "source": [
        "customers_df.tail()  #see the newly added customers"
      ],
      "metadata": {
        "id": "A79xIzF7nyL0"
      },
      "execution_count": null,
      "outputs": []
    },
    {
      "cell_type": "code",
      "source": [
        "# Sometimes you mess up your dataframe and need to delete it. Here's how.\n",
        "customers_df = pd.DataFrame() #create an empty dataframe.\n",
        "customers_df"
      ],
      "metadata": {
        "id": "5JnaZmynmv22"
      },
      "execution_count": null,
      "outputs": []
    },
    {
      "cell_type": "markdown",
      "source": [
        "# Alternative Method for Adding Lists to a DataFrame\n",
        "This example creates several lists of random stuff related to logins. The first item in each list coresponds to the first item in the other lists. The second item in the list corresponds to the second item in the other lists, etc. Collectively, lists are passed to a panda dataframe which converts each list into a column and each item in the list becomes a row in the dataframe."
      ],
      "metadata": {
        "id": "h6uJFrG83OSF"
      }
    },
    {
      "cell_type": "code",
      "source": [
        "COUNT = 100 #How many rows do you want?\n",
        "user_names = [] #empty list\n",
        "passwords = []\n",
        "last_logins = []\n",
        "\n",
        "#Populate the lists with random selections\n",
        "for _ in range(COUNT):\n",
        "  user_names.append(fake.user_name()) #randomly generates a username\n",
        "  passwords.append(fake.password()) #randomly generates a password\n",
        "  last_logins.append(fake.date_this_month()) #randomly selects a date\n",
        "\n",
        "# Notice the { } must be included becuase the list are temporarily stored in a dictionary and then\n",
        "# passed to the dataframe().\n",
        "user_log_df = pd.DataFrame({'UserName': user_names, 'Passwords': passwords, 'LastLogin': last_logins})\n",
        "user_log_df"
      ],
      "metadata": {
        "id": "349aB2LB1C_E"
      },
      "execution_count": null,
      "outputs": []
    },
    {
      "cell_type": "markdown",
      "source": [
        "## How to create random numbers, etc."
      ],
      "metadata": {
        "id": "x4X-br-foE7x"
      }
    },
    {
      "cell_type": "code",
      "source": [
        "fake.pyfloat()"
      ],
      "metadata": {
        "id": "wKwD5fHkoIxp"
      },
      "execution_count": null,
      "outputs": []
    },
    {
      "cell_type": "code",
      "source": [
        "fake.pyint(50, 200)  #generate random integer between two values"
      ],
      "metadata": {
        "id": "IMS-2zjNoL_y"
      },
      "execution_count": null,
      "outputs": []
    },
    {
      "cell_type": "code",
      "source": [
        "fake.pybool()  #create boolean values."
      ],
      "metadata": {
        "id": "8mzjmNSZoOEh"
      },
      "execution_count": null,
      "outputs": []
    },
    {
      "cell_type": "code",
      "source": [
        "# Return True or False with a 85% probability of True\n",
        "# Useful for creating unbalanced data\n",
        "for _ in range(100):\n",
        "  print(fake.pybool(truth_probability= 85))"
      ],
      "metadata": {
        "id": "x7hV4J1DrVdq"
      },
      "execution_count": null,
      "outputs": []
    },
    {
      "cell_type": "code",
      "source": [
        "#Use probability in an if statment\n",
        "#85 percent chance of generating a female name\n",
        "people = []\n",
        "if fake.pybool(truth_probability= 85):\n",
        "  people.append(fake.name_female())\n",
        "else:\n",
        "  people.append(fake.name_male())\n",
        "\n",
        "people"
      ],
      "metadata": {
        "id": "76QKin9JvgjV"
      },
      "execution_count": null,
      "outputs": []
    },
    {
      "cell_type": "code",
      "source": [
        "# This is how Dr. Humpherys created a dataset of fake product returns where\n",
        "# some returns did not have a receipt.\n",
        "has_receipt = []\n",
        "for _ in range(20):\n",
        "  has_receipt.append(fake.pybool(truth_probability= 85))\n",
        "\n",
        "has_receipt"
      ],
      "metadata": {
        "id": "RV8A_qwdsAFY"
      },
      "execution_count": null,
      "outputs": []
    },
    {
      "cell_type": "code",
      "source": [
        "# Randomly generates a price tag\n",
        "# Problem: There is no between values so the prices can range by $50,000 or more\n",
        "# and the output returns dollar sign and commas.\n",
        "fake.pricetag()"
      ],
      "metadata": {
        "id": "Wq089kC1oito"
      },
      "execution_count": null,
      "outputs": []
    },
    {
      "cell_type": "code",
      "source": [
        "#Solution is to use random as follows. Code generated by Gemini from Dr. Humpherys' prompts.\n",
        "import random\n",
        "\n",
        "def generate_random_price(min_price, max_price):\n",
        "  \"\"\"Generates a random price between min_price and max_price with two decimal places.\n",
        "\n",
        "  Args:\n",
        "    min_price: The minimum price (inclusive).\n",
        "    max_price: The maximum price (exclusive).\n",
        "\n",
        "  Returns:\n",
        "    A random price as a string with two decimal places.\n",
        "  \"\"\"\n",
        "  price = random.uniform(min_price, max_price)\n",
        "  return round(price, 2)\n",
        "\n",
        "# Example usage\n",
        "generate_random_price(1.00, 400.00)\n"
      ],
      "metadata": {
        "id": "CiqpH9XyonTM"
      },
      "execution_count": null,
      "outputs": []
    },
    {
      "cell_type": "code",
      "source": [
        "# Fake credit card and expiration date in a tuple.\n",
        "fake.credit_card_number(), fake.credit_card_expire()"
      ],
      "metadata": {
        "id": "6TRplVsirHCa"
      },
      "execution_count": null,
      "outputs": []
    },
    {
      "cell_type": "code",
      "source": [
        "fake.upc_a() #fake barcode number"
      ],
      "metadata": {
        "id": "o4ZFykTh0q2z"
      },
      "execution_count": null,
      "outputs": []
    },
    {
      "cell_type": "markdown",
      "source": [
        "## How to create random dates <br>\n",
        "Faker returns a datetime object, which is ok for use in a Panda dataframe or for exporting to a csv file. You do not need to format the date unless you want to."
      ],
      "metadata": {
        "id": "bFSGSdOqqd07"
      }
    },
    {
      "cell_type": "code",
      "source": [
        "fake.date() #Returns a string object"
      ],
      "metadata": {
        "id": "G79PhN9owx0I"
      },
      "execution_count": null,
      "outputs": []
    },
    {
      "cell_type": "code",
      "source": [
        "fake.date('%m-%d-%Y') #Format the string date as desired"
      ],
      "metadata": {
        "id": "H7BXaNQjw5lU"
      },
      "execution_count": null,
      "outputs": []
    },
    {
      "cell_type": "code",
      "source": [
        "fake.date('%a %D')\n",
        "#Other string formats are available. See https://www.w3schools.com/python/python_datetime.asp"
      ],
      "metadata": {
        "id": "K_HU7u2QxhaS"
      },
      "execution_count": null,
      "outputs": []
    },
    {
      "cell_type": "code",
      "source": [
        "#Get a date object. start_date defaults to 30 years ago and end_date defaults to today.\n",
        "fake.date_between()"
      ],
      "metadata": {
        "id": "0pzCgu20virx"
      },
      "execution_count": null,
      "outputs": []
    },
    {
      "cell_type": "code",
      "source": [
        "# '-2y' calculates two years earlier than today\n",
        "# '-1y' calculates one year earlier than today\n",
        "# You can change the integer for a different year range\n",
        "fake.date_between(start_date='-2y', end_date='-1y')"
      ],
      "metadata": {
        "id": "7otkMOS8peWP"
      },
      "execution_count": null,
      "outputs": []
    },
    {
      "cell_type": "code",
      "source": [
        "#How to specify a date range\n",
        "\n",
        "#The \"Incorrect\" code will not work becuase the\n",
        "#start_date and end_date require a date object, not a string.\n",
        "\n",
        "#Incorrect\n",
        "#fake.date_between(start_date='04/01/2023', end_date='12/31/2023')\n",
        "\n",
        "#Correct\n",
        "import datetime as dt\n",
        "start_date = dt.datetime(2020, 4, 1)\n",
        "end_date = dt.datetime(2023, 12, 31)\n",
        "fake.date_between(start_date, end_date)"
      ],
      "metadata": {
        "id": "0B5hwYUlyZad"
      },
      "execution_count": null,
      "outputs": []
    },
    {
      "cell_type": "code",
      "source": [
        "#Faker's date_time() methods works the same as the date() methods\n",
        "# and adds a time portion to the date\n",
        "fake.date_time()"
      ],
      "metadata": {
        "id": "MoQDk5uc0GKv"
      },
      "execution_count": null,
      "outputs": []
    },
    {
      "cell_type": "code",
      "source": [
        "fake.date_time_between()"
      ],
      "metadata": {
        "id": "uSvlS46U0VvB"
      },
      "execution_count": null,
      "outputs": []
    },
    {
      "cell_type": "code",
      "source": [
        "# Generates a date of birth with a minimum age of 0 to maximum age of 115.\n",
        "fake.date_of_birth()"
      ],
      "metadata": {
        "id": "_SiOBaSowayW"
      },
      "execution_count": null,
      "outputs": []
    },
    {
      "cell_type": "markdown",
      "source": [
        "## How to Genereate Random Text"
      ],
      "metadata": {
        "id": "InWzZkHFwW1-"
      }
    },
    {
      "cell_type": "code",
      "source": [
        "fake.word()"
      ],
      "metadata": {
        "id": "TlU8rH5AuvVy"
      },
      "execution_count": null,
      "outputs": []
    },
    {
      "cell_type": "code",
      "source": [
        "fake.paragraph() #generate a random paragraph"
      ],
      "metadata": {
        "id": "oV7CGci1uOK_"
      },
      "execution_count": null,
      "outputs": []
    },
    {
      "cell_type": "code",
      "source": [
        "\n",
        "fake.paragraph(5) #random paragraph with aproximately 5 sentences"
      ],
      "metadata": {
        "id": "aSBDcQU_uSNV"
      },
      "execution_count": null,
      "outputs": []
    },
    {
      "cell_type": "markdown",
      "source": [
        "### How to customize the words list\n",
        "You can provide your own sets of words if you don't want to use the default lorem ipsum one. This can be helpful for randomly selecting items you put in a list."
      ],
      "metadata": {
        "id": "2kXrUZIR_3yO"
      }
    },
    {
      "cell_type": "code",
      "source": [
        "#Randomly select sugary treats\n",
        "treats = [\n",
        "'danish','cheesecake','donut',\n",
        "'Lollipop','wafer','Gummies',\n",
        "'licorice','Jelly beans',\n",
        "'pie','candy bar','Icecream', 'fudge sunday' ]\n",
        "\n",
        "fake.word(ext_word_list = treats)"
      ],
      "metadata": {
        "id": "vRd-VH_e_2zf"
      },
      "execution_count": null,
      "outputs": []
    },
    {
      "cell_type": "code",
      "source": [
        "#Randomly select sugary treats to create a sentence\n",
        "treats = [\n",
        "'danish','cheesecake','donut',\n",
        "'Lollipop','wafer','Gummies',\n",
        "'licorice','Jelly beans',\n",
        "'pie','bar','Icecream', 'fudge sunday' ]\n",
        "\n",
        "fake.sentence(ext_word_list = treats)"
      ],
      "metadata": {
        "id": "88qITECMA2M5"
      },
      "execution_count": null,
      "outputs": []
    },
    {
      "cell_type": "markdown",
      "source": [
        "#Random Choices and Random Probabilities"
      ],
      "metadata": {
        "id": "z52d-Ig3-iA4"
      }
    },
    {
      "cell_type": "markdown",
      "source": [
        "Consider learning more about random and its methods. Random is useful when you need a random selection of something you specify in a list.\n",
        "\n",
        "random.choice() https://www.w3schools.com/python/ref_random_choice.asp   <br>\n",
        "random.choices() with weighted probabilities https://www.geeksforgeeks.org/how-to-get-weighted-random-choice-in-python/  <br>\n"
      ],
      "metadata": {
        "id": "cioQOY9g5M1v"
      }
    },
    {
      "cell_type": "code",
      "source": [
        "#Create a list of stuff and random.choice() will randomly select one of the items\n",
        "import random\n",
        "healthcare_jobs = ['dr', 'LPN', 'nurse', 'tech']\n",
        "random.choice(healthcare_jobs)"
      ],
      "metadata": {
        "id": "B8b5nBpQ5XAQ"
      },
      "execution_count": null,
      "outputs": []
    },
    {
      "cell_type": "code",
      "source": [
        "#random.choices() will create a list of as many choices as you specify\n",
        "#notice the s in random.choices()\n",
        "#argument k is the number of items you wish to randomly return\n",
        "import random\n",
        "healthcare_jobs = ['dr', 'LPN', 'nurse', 'tech']\n",
        "random.choices(healthcare_jobs, k=20) #20 items"
      ],
      "metadata": {
        "id": "U70Gauq17W8B"
      },
      "execution_count": null,
      "outputs": []
    },
    {
      "cell_type": "markdown",
      "source": [
        "You can change the probability of selecting an item from the list by specifying weights for each item.\n",
        "Each item in your list needs to have a corresponding weight value, as exampled.\n",
        "\n",
        "```\n",
        "healthcare_jobs = [\"dr\", 'LPN', 'nurse', 'tech']\n",
        "weights = [1, 1, 2, 5]\n",
        "```\n",
        " The integer in the weights list can be thought of as a ratio (not exactly but helpful), e.g. \"Randomly select a healthcare job where the ratio is 1 doctor for 1 LPN for 2 nurses for 5 techs.\" This will not get you an exact ratio, but nurses will be more likely than doctors and LPNs and techs will be more likely than the others."
      ],
      "metadata": {
        "id": "uXxl2fFf80Wd"
      }
    },
    {
      "cell_type": "code",
      "source": [
        "healthcare_jobs = [\"dr\", 'LPN', 'nurse', 'tech']\n",
        "weights = [1, 1, 2, 5]  #ratio of how many of each to randomly select\n",
        "random.choices(healthcare_jobs, weights, k=200)"
      ],
      "metadata": {
        "id": "idXNeThE5-cu"
      },
      "execution_count": null,
      "outputs": []
    },
    {
      "cell_type": "code",
      "source": [
        "# Alternative example using different weights\n",
        "healthcare_jobs = [\"dr\", 'LPN', 'nurse', 'tech']\n",
        "weights = [1, 3, 6, 11]  #ratio of how many of each to randomly select\n",
        "random.choices(healthcare_jobs, weights, k=20)"
      ],
      "metadata": {
        "id": "txI4-jBt6_KC"
      },
      "execution_count": null,
      "outputs": []
    },
    {
      "cell_type": "markdown",
      "source": [
        "If you need data that is random but predictably random (i.e., repeatable each time you run your code), consider learning about the `fake.seed_instance()` method at https://faker.readthedocs.io/en/master/index.html#seeding-the-generator <br>\n",
        "This feature is useful if you need to run the same test multiple times or share you code with someone else who is attempted to replicate your output."
      ],
      "metadata": {
        "id": "yCVMY_WmCeXz"
      }
    }
  ]
}